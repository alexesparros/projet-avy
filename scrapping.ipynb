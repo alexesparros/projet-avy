{
 "cells": [
  {
   "cell_type": "code",
   "execution_count": 6,
   "metadata": {},
   "outputs": [],
   "source": [
    "import re, json\n",
    "import requests\n",
    "from bs4 import BeautifulSoup\n",
    "import pandas as pd"
   ]
  },
  {
   "cell_type": "code",
   "execution_count": 8,
   "metadata": {},
   "outputs": [],
   "source": [
    "def scrape_vinatis(page:int):\n",
    "    # On récupère le site de Vinatis\n",
    "    vin = requests.get(f\"https://www.vinatis.com/achat-vin?page={page}\").text\n",
    "    # Beautiful soup est une lib pour scraper les sites web\n",
    "    soup = BeautifulSoup(vin, \"html.parser\")\n",
    "    # On récupère a balise <script> qui contient les infos de vin \n",
    "    scripts = soup.find_all(\"script\")\n",
    "    # Pour chaque balise <script>\n",
    "    for script in scripts:\n",
    "    # Tous nos vins sont dans une variable javascript appelée product_elastic\n",
    "        if script.string and \"product_elastic\" in script.string:\n",
    "            # On crée une regex pour extraire le JSON de cette variable\n",
    "            match = re.search(r\"var\\s+product_elastic\\s*=\\s*({.*?});\", script.string, re.DOTALL)\n",
    "            if match:\n",
    "                # On charge le JSON en dictionnaire et on le retourne sous forme de dataframe\n",
    "                data = json.loads(match.group(1))\n",
    "                df = pd.DataFrame(data[\"products\"])\n",
    "                return df\n",
    "            \n",
    "           "
   ]
  },
  {
   "cell_type": "code",
   "execution_count": 10,
   "metadata": {},
   "outputs": [],
   "source": [
    "all_dfs = []\n",
    "\n",
    "for page in range(1, 151):\n",
    "    df = scrape_vinatis(page)\n",
    "    if df is not None:\n",
    "        all_dfs.append(df)\n",
    "\n",
    "df_final = pd.concat(all_dfs, ignore_index=True)\n",
    "df_final.to_csv(\"vins_vinatis_150_pages.csv\", index=False)"
   ]
  }
 ],
 "metadata": {
  "kernelspec": {
   "display_name": "venv",
   "language": "python",
   "name": "venv"
  },
  "language_info": {
   "codemirror_mode": {
    "name": "ipython",
    "version": 3
   },
   "file_extension": ".py",
   "mimetype": "text/x-python",
   "name": "python",
   "nbconvert_exporter": "python",
   "pygments_lexer": "ipython3",
   "version": "3.13.3"
  }
 },
 "nbformat": 4,
 "nbformat_minor": 2
}
